{
 "cells": [
  {
   "cell_type": "code",
   "execution_count": 1,
   "id": "4f7350e4-219c-49ca-8232-31b59340ff6c",
   "metadata": {
    "tags": []
   },
   "outputs": [
    {
     "name": "stderr",
     "output_type": "stream",
     "text": [
      "/opt/conda/lib/python3.7/site-packages/tqdm/auto.py:22: TqdmWarning: IProgress not found. Please update jupyter and ipywidgets. See https://ipywidgets.readthedocs.io/en/stable/user_install.html\n",
      "  from .autonotebook import tqdm as notebook_tqdm\n",
      "Global seed set to 42\n"
     ]
    },
    {
     "data": {
      "text/plain": [
       "42"
      ]
     },
     "execution_count": 1,
     "metadata": {},
     "output_type": "execute_result"
    }
   ],
   "source": [
    "from transformers import LayoutLMv3FeatureExtractor, LayoutLMv3TokenizerFast, LayoutLMv3Processor, LayoutLMv3ForSequenceClassification\n",
    "from tqdm import tqdm\n",
    "import torch\n",
    "from torch.utils.data import Dataset, DataLoader\n",
    "import pytorch_lightning as pl\n",
    "from pytorch_lightning.callbacks import ModelCheckpoint\n",
    "from PIL import Image, ImageDraw, ImageFont\n",
    "import numpy as np\n",
    "from sklearn.model_selection import train_test_split\n",
    "import imgkit\n",
    "import easyocr\n",
    "import torchvision.transforms as T\n",
    "from pathlib import Path\n",
    "import matplotlib.pyplot as plt\n",
    "import os\n",
    "import cv2\n",
    "from typing import List\n",
    "import json\n",
    "from torchmetrics import Accuracy\n",
    "from huggingface_hub import notebook_login\n",
    "from sklearn.metrics import confusion_matrix, ConfusionMatrixDisplay\n",
    "\n",
    "%matplotlib inline\n",
    "pl.seed_everything(42)"
   ]
  },
  {
   "cell_type": "code",
   "execution_count": 8,
   "id": "5662c364-c677-4e82-9f2f-fa642bdd1be3",
   "metadata": {
    "tags": []
   },
   "outputs": [],
   "source": [
    "image_paths = sorted(list(Path(\"images\").glob(\"*/*.jpg\")))\n",
    "train_images, test_images = train_test_split(image_paths, test_size=.2)\n"
   ]
  },
  {
   "cell_type": "code",
   "execution_count": 9,
   "id": "51d1bd0d-8e08-446e-a6f5-52f548b3cd21",
   "metadata": {
    "tags": []
   },
   "outputs": [],
   "source": [
    "DEVICE = \"cuda:0\" if torch.cuda.is_available() else \"cpu\""
   ]
  },
  {
   "cell_type": "code",
   "execution_count": 10,
   "id": "23f7cd22-b637-4df7-a774-52b0edccb1e8",
   "metadata": {
    "tags": []
   },
   "outputs": [],
   "source": [
    "model = LayoutLMv3ForSequenceClassification.from_pretrained(\"humanai2025/layoutlmv3-fdc\")\n",
    "model = model.eval().to(DEVICE)"
   ]
  },
  {
   "cell_type": "code",
   "execution_count": 11,
   "id": "412b4e75-9e5b-4524-a04d-c3540ca330af",
   "metadata": {
    "tags": []
   },
   "outputs": [],
   "source": [
    "def predict_document_image(\n",
    "    image_path: Path,\n",
    "    model: LayoutLMv3ForSequenceClassification,\n",
    "    processor: LayoutLMv3Processor):\n",
    "\n",
    "    json_path = image_path.with_suffix(\".json\")\n",
    "    with json_path.open(\"r\") as f:\n",
    "        ocr_result = json.load(f)\n",
    "\n",
    "        with Image.open(image_path).convert(\"RGB\") as image:\n",
    "\n",
    "            width, height = image.size\n",
    "            width_scale = 1000 / width\n",
    "            height_scale = 1000 / height\n",
    "\n",
    "            words = []\n",
    "            boxes = []\n",
    "            for row in ocr_result:\n",
    "                boxes.append(\n",
    "                    scale_bounding_box(\n",
    "                        row[\"bounding_box\"],\n",
    "                        width_scale,\n",
    "                        height_scale\n",
    "                    )\n",
    "                )\n",
    "                words.append(row[\"word\"])\n",
    "\n",
    "            encoding = processor(\n",
    "                image,\n",
    "                words,\n",
    "                boxes=boxes,\n",
    "                max_length=512,\n",
    "                padding=\"max_length\",\n",
    "                truncation=True,\n",
    "                return_tensors=\"pt\"\n",
    "            )\n",
    "\n",
    "    with torch.inference_mode():\n",
    "        output = model(\n",
    "            input_ids=encoding[\"input_ids\"].to(DEVICE),\n",
    "            attention_mask=encoding[\"attention_mask\"].to(DEVICE),\n",
    "            bbox=encoding[\"bbox\"].to(DEVICE),\n",
    "            pixel_values=encoding[\"pixel_values\"].to(DEVICE)\n",
    "        )\n",
    "\n",
    "    predicted_class = output.logits.argmax()\n",
    "    return model.config.id2label[predicted_class.item()]"
   ]
  },
  {
   "cell_type": "code",
   "execution_count": 14,
   "id": "6b7c01fc-f3d3-4db7-8a8b-0324ef30ba41",
   "metadata": {
    "tags": []
   },
   "outputs": [
    {
     "name": "stderr",
     "output_type": "stream",
     "text": [
      "/opt/conda/lib/python3.7/site-packages/transformers/models/layoutlmv3/feature_extraction_layoutlmv3.py:33: FutureWarning: The class LayoutLMv3FeatureExtractor is deprecated and will be removed in version 5 of Transformers. Please use LayoutLMv3ImageProcessor instead.\n",
      "  FutureWarning,\n"
     ]
    }
   ],
   "source": [
    "feature_extractor = LayoutLMv3FeatureExtractor(apply_ocr=False)\n",
    "tokenizer = LayoutLMv3TokenizerFast.from_pretrained(\"microsoft/layoutlmv3-base\")\n",
    "processor = LayoutLMv3Processor(feature_extractor, tokenizer)"
   ]
  },
  {
   "cell_type": "code",
   "execution_count": 16,
   "id": "1a8422f8-2e25-4ff4-8867-6208afa25251",
   "metadata": {
    "tags": []
   },
   "outputs": [],
   "source": [
    "def scale_bounding_box(box: List[int], width_scale : float = 1.0, height_scale : float = 1.0) -> List[int]:\n",
    "    return [\n",
    "        int(box[0] * width_scale),\n",
    "        int(box[1] * height_scale),\n",
    "        int(box[2] * width_scale),\n",
    "        int(box[3] * height_scale)\n",
    "    ]"
   ]
  },
  {
   "cell_type": "code",
   "execution_count": 19,
   "id": "9e061060-4f39-42e2-9bf9-da34f7c2b5cb",
   "metadata": {
    "tags": []
   },
   "outputs": [
    {
     "data": {
      "text/plain": [
       "['balance_sheets', 'cash_flow', 'income_statement', 'notes', 'others']"
      ]
     },
     "execution_count": 19,
     "metadata": {},
     "output_type": "execute_result"
    }
   ],
   "source": [
    "DOCUMENT_CLASSES = sorted(list(map(lambda p: p.name, Path(\"images\").glob(\"*\"))))\n",
    "DOCUMENT_CLASSES"
   ]
  },
  {
   "cell_type": "code",
   "execution_count": 17,
   "id": "9e47e800-8b73-41a7-9bab-fd347a3afe91",
   "metadata": {
    "tags": []
   },
   "outputs": [
    {
     "name": "stderr",
     "output_type": "stream",
     "text": [
      "  0%|          | 0/515 [00:00<?, ?it/s]/opt/conda/lib/python3.7/site-packages/transformers/modeling_utils.py:831: FutureWarning: The `device` argument is deprecated and will be removed in v5 of Transformers.\n",
      "  \"The `device` argument is deprecated and will be removed in v5 of Transformers.\", FutureWarning\n",
      "100%|██████████| 515/515 [02:06<00:00,  4.08it/s]\n"
     ]
    }
   ],
   "source": [
    "labels = []\n",
    "predictions = []\n",
    "for image_path in tqdm(test_images):\n",
    "    labels.append(image_path.parent.name)\n",
    "    predictions.append(predict_document_image(image_path, model, processor))"
   ]
  },
  {
   "cell_type": "code",
   "execution_count": 20,
   "id": "7d94c5fa-ff0a-43f0-a52c-d308ff3dd633",
   "metadata": {
    "tags": []
   },
   "outputs": [
    {
     "data": {
      "image/png": "[encoded data removed]",
      "text/plain": [
       "<Figure size 1152x576 with 2 Axes>"
      ]
     },
     "metadata": {
      "needs_background": "light"
     },
     "output_type": "display_data"
    }
   ],
   "source": [
    "cm = confusion_matrix(labels, predictions, labels=DOCUMENT_CLASSES)\n",
    "cm_display = ConfusionMatrixDisplay(\n",
    "    confusion_matrix=cm,\n",
    "    display_labels=DOCUMENT_CLASSES\n",
    ")\n",
    "\n",
    "cm_display.plot()\n",
    "cm_display.ax_.set_xticklabels(DOCUMENT_CLASSES, rotation=45)\n",
    "cm_display.figure_.set_size_inches(16, 8)\n",
    "\n",
    "plt.show();"
   ]
  },
  {
   "cell_type": "code",
   "execution_count": null,
   "id": "fb0655b0-a4ae-4ccd-a858-0151ca8783db",
   "metadata": {},
   "outputs": [],
   "source": []
  },
  {
   "cell_type": "code",
   "execution_count": null,
   "id": "a6ea5f5b-3397-40d1-ac17-3d11e9d8e354",
   "metadata": {},
   "outputs": [],
   "source": []
  },
  {
   "cell_type": "code",
   "execution_count": null,
   "id": "e083df57-a595-43eb-98a2-0a72ac018b2f",
   "metadata": {},
   "outputs": [],
   "source": []
  },
  {
   "cell_type": "code",
   "execution_count": null,
   "id": "eb9761f4-4f6f-40e9-b9c0-f024cc4ed5f1",
   "metadata": {},
   "outputs": [],
   "source": []
  },
  {
   "cell_type": "code",
   "execution_count": null,
   "id": "c0854fc6-d205-4ff1-b66d-f62481282ec1",
   "metadata": {},
   "outputs": [],
   "source": []
  },
  {
   "cell_type": "code",
   "execution_count": null,
   "id": "c88cb31e-c189-45d1-ad66-cc1d68fc1740",
   "metadata": {},
   "outputs": [],
   "source": []
  },
  {
   "cell_type": "code",
   "execution_count": null,
   "id": "e2e5e0f9-2cd9-4ad5-9f3d-77192c3eab84",
   "metadata": {},
   "outputs": [],
   "source": []
  },
  {
   "cell_type": "code",
   "execution_count": null,
   "id": "d45182a9-ee18-422b-b479-c4b78cd72558",
   "metadata": {},
   "outputs": [],
   "source": []
  },
  {
   "cell_type": "code",
   "execution_count": null,
   "id": "1c7d0760-1ee1-4d51-9ca9-9aed9cadd812",
   "metadata": {},
   "outputs": [],
   "source": []
  },
  {
   "cell_type": "code",
   "execution_count": null,
   "id": "0eb97a4f-6c96-486c-b461-476855273f59",
   "metadata": {},
   "outputs": [],
   "source": []
  },
  {
   "cell_type": "code",
   "execution_count": null,
   "id": "13580270-4d21-4c41-8090-09779c73eb35",
   "metadata": {},
   "outputs": [],
   "source": []
  },
  {
   "cell_type": "code",
   "execution_count": null,
   "id": "dc6362ab-1251-47c8-93e4-5332205363a2",
   "metadata": {},
   "outputs": [],
   "source": []
  },
  {
   "cell_type": "code",
   "execution_count": null,
   "id": "2e54d350-8758-4ca2-be73-79cd7c6de51a",
   "metadata": {},
   "outputs": [],
   "source": []
  },
  {
   "cell_type": "code",
   "execution_count": null,
   "id": "5ec768d2-7c02-417d-a12e-7de7a2780c77",
   "metadata": {},
   "outputs": [],
   "source": []
  },
  {
   "cell_type": "code",
   "execution_count": null,
   "id": "892714cf-038c-4ab6-8669-a9ab45892b91",
   "metadata": {},
   "outputs": [],
   "source": []
  },
  {
   "cell_type": "code",
   "execution_count": null,
   "id": "b97a3cb4-e7e3-40c5-b58d-0c8883c43a1f",
   "metadata": {},
   "outputs": [],
   "source": []
  },
  {
   "cell_type": "code",
   "execution_count": null,
   "id": "2e887fd8-3099-4e5c-8905-0e78d182da27",
   "metadata": {},
   "outputs": [],
   "source": []
  },
  {
   "cell_type": "code",
   "execution_count": null,
   "id": "d22b986b-159b-4f23-ab21-26611723b960",
   "metadata": {},
   "outputs": [],
   "source": []
  },
  {
   "cell_type": "code",
   "execution_count": null,
   "id": "f41e3d65-fa5f-4017-8f37-d902d26460ad",
   "metadata": {},
   "outputs": [],
   "source": []
  },
  {
   "cell_type": "code",
   "execution_count": null,
   "id": "69739d8a-c688-44e2-b080-deac28af12b4",
   "metadata": {},
   "outputs": [],
   "source": []
  },
  {
   "cell_type": "code",
   "execution_count": null,
   "id": "698e95cb-19a7-4517-aa55-ee4dbbe46a18",
   "metadata": {},
   "outputs": [],
   "source": []
  },
  {
   "cell_type": "code",
   "execution_count": null,
   "id": "32c1423b-a340-45ed-9945-6453a543da49",
   "metadata": {},
   "outputs": [],
   "source": []
  },
  {
   "cell_type": "code",
   "execution_count": null,
   "id": "393d5c8d-83d9-408a-a2a1-ac81a0d82259",
   "metadata": {},
   "outputs": [],
   "source": []
  },
  {
   "cell_type": "code",
   "execution_count": null,
   "id": "5ccb774e-78c2-4343-81d3-c9c313a0b1e0",
   "metadata": {},
   "outputs": [],
   "source": []
  },
  {
   "cell_type": "code",
   "execution_count": null,
   "id": "4273b94d-865e-4f42-a49a-d001055cc854",
   "metadata": {},
   "outputs": [],
   "source": []
  },
  {
   "cell_type": "code",
   "execution_count": null,
   "id": "1ad91df0-a5d4-4641-bf6f-f50510c07f4c",
   "metadata": {},
   "outputs": [],
   "source": []
  },
  {
   "cell_type": "code",
   "execution_count": null,
   "id": "8eea098d-e361-4b10-8482-4fa7b2630b7c",
   "metadata": {},
   "outputs": [],
   "source": []
  },
  {
   "cell_type": "code",
   "execution_count": null,
   "id": "cd1c71c4-46d5-4ae1-bd3e-7ec37bf6b9b2",
   "metadata": {},
   "outputs": [],
   "source": []
  },
  {
   "cell_type": "code",
   "execution_count": null,
   "id": "591883ee-65ff-45f1-b600-4efce3171b20",
   "metadata": {},
   "outputs": [],
   "source": []
  },
  {
   "cell_type": "code",
   "execution_count": null,
   "id": "2bc85a11-9959-4a07-96d2-40d569738267",
   "metadata": {},
   "outputs": [],
   "source": []
  },
  {
   "cell_type": "code",
   "execution_count": null,
   "id": "2efd274a-e4a8-44d8-948a-6e52736b9c57",
   "metadata": {},
   "outputs": [],
   "source": []
  },
  {
   "cell_type": "code",
   "execution_count": null,
   "id": "86ab8d2f-00bd-4d04-820b-027176fac29d",
   "metadata": {},
   "outputs": [],
   "source": []
  },
  {
   "cell_type": "code",
   "execution_count": null,
   "id": "99878964-d246-41ee-b02b-217d1091fac2",
   "metadata": {},
   "outputs": [],
   "source": []
  },
  {
   "cell_type": "code",
   "execution_count": null,
   "id": "8203a8b7-09e4-4b35-9a9b-6371e035001f",
   "metadata": {},
   "outputs": [],
   "source": []
  },
  {
   "cell_type": "code",
   "execution_count": null,
   "id": "1e41ff06-869c-40f9-9f92-e01228f8355b",
   "metadata": {},
   "outputs": [],
   "source": []
  }
 ],
 "metadata": {
  "kernelspec": {
   "display_name": "Python 3 (ipykernel)",
   "language": "python",
   "name": "python3"
  },
  "language_info": {
   "codemirror_mode": {
    "name": "ipython",
    "version": 3
   },
   "file_extension": ".py",
   "mimetype": "text/x-python",
   "name": "python",
   "nbconvert_exporter": "python",
   "pygments_lexer": "ipython3",
   "version": "3.7.13"
  }
 },
 "nbformat": 4,
 "nbformat_minor": 5
}
